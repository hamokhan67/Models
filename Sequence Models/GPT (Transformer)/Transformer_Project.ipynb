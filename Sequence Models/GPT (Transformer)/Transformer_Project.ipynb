{
 "cells": [
  {
   "cell_type": "code",
   "execution_count": 20,
   "id": "33ff8bb1-ef31-477d-9953-14cca82f058b",
   "metadata": {},
   "outputs": [
    {
     "name": "stdout",
     "output_type": "stream",
     "text": [
      "Text downloaded successfully!\n"
     ]
    }
   ],
   "source": [
    "import requests\n",
    "\n",
    "url = \"https://raw.githubusercontent.com/karpathy/char-rnn/master/data/tinyshakespeare/input.txt\"\n",
    "response = requests.get(url)\n",
    "\n",
    "if response.status_code == 200:\n",
    "    text = response.text  # Get the webpage content as text\n",
    "    with open(\"downloaded_text.txt\", \"w\", encoding=\"utf-8\") as file:\n",
    "        file.write(text)\n",
    "    print(\"Text downloaded successfully!\")\n",
    "else:\n",
    "    print(\"Failed to retrieve the page.\")\n"
   ]
  },
  {
   "cell_type": "code",
   "execution_count": 1,
   "id": "8ebff6c2-f213-4040-a4e4-757b27530a2a",
   "metadata": {},
   "outputs": [],
   "source": [
    "# read it in to inspect it\n",
    "with open('downloaded_text.txt', 'r', encoding='utf-8') as f:\n",
    "    text = f.read()"
   ]
  },
  {
   "cell_type": "code",
   "execution_count": 2,
   "id": "c0f7c944-e3f4-4d11-a6ee-3718c05e7c34",
   "metadata": {},
   "outputs": [
    {
     "name": "stdout",
     "output_type": "stream",
     "text": [
      "length of dataset in characters:  1115394\n"
     ]
    }
   ],
   "source": [
    "print(\"length of dataset in characters: \", len(text))"
   ]
  },
  {
   "cell_type": "code",
   "execution_count": 3,
   "id": "c81b179f-19bd-4d0f-a01d-03d8a98727ae",
   "metadata": {},
   "outputs": [
    {
     "name": "stdout",
     "output_type": "stream",
     "text": [
      "First Citizen:\n",
      "Before we proceed any further, hear me speak.\n",
      "\n",
      "All:\n",
      "Speak, speak.\n",
      "\n",
      "First Citizen:\n",
      "You are all resolved rather to die than to famish?\n",
      "\n",
      "All:\n",
      "Resolved. resolved.\n",
      "\n",
      "First Citizen:\n",
      "First, you know Caius Marcius is chief enemy to the people.\n",
      "\n",
      "All:\n",
      "We know't, we know't.\n",
      "\n",
      "First Citizen:\n",
      "Let us kill him, and we'll have corn at our own price.\n",
      "Is't a verdict?\n",
      "\n",
      "All:\n",
      "No more talking on't; let it be done: away, away!\n",
      "\n",
      "Second Citizen:\n",
      "One word, good citizens.\n",
      "\n",
      "First Citizen:\n",
      "We are accounted poor citizens, the patricians good.\n",
      "What authority surfeits on would relieve us: if they\n",
      "would yield us but the superfluity, while it were\n",
      "wholesome, we might guess they relieved us humanely;\n",
      "but they think we are too dear: the leanness that\n",
      "afflicts us, the object of our misery, is as an\n",
      "inventory to particularise their abundance; our\n",
      "sufferance is a gain to them Let us revenge this with\n",
      "our pikes, ere we become rakes: for the gods know I\n",
      "speak this in hunger for bread, not in thirst for revenge.\n",
      "\n",
      "\n"
     ]
    }
   ],
   "source": [
    "print(text[:1000])"
   ]
  },
  {
   "cell_type": "code",
   "execution_count": 4,
   "id": "e96ade63-84a8-4b7c-bfaa-204ba984237d",
   "metadata": {},
   "outputs": [
    {
     "name": "stdout",
     "output_type": "stream",
     "text": [
      "\n",
      " !$&',-.3:;?ABCDEFGHIJKLMNOPQRSTUVWXYZabcdefghijklmnopqrstuvwxyz\n",
      "65\n"
     ]
    }
   ],
   "source": [
    "chars = sorted(list(set(text)))\n",
    "vocab_size = len(chars)\n",
    "print(''.join(chars))\n",
    "print(vocab_size)"
   ]
  },
  {
   "cell_type": "code",
   "execution_count": 5,
   "id": "bc83f34d-4c4f-4d82-8444-7cb12f64cb42",
   "metadata": {},
   "outputs": [
    {
     "name": "stdout",
     "output_type": "stream",
     "text": [
      "[46, 39, 51, 64, 39]\n",
      "hamza\n"
     ]
    }
   ],
   "source": [
    "stoi = { ch:i for i, ch in enumerate(chars)}\n",
    "itos = { i:ch for i, ch in enumerate(chars)}\n",
    "encode = lambda s: [stoi[x] for x in s]\n",
    "decode = lambda s: ''.join([itos[x] for x in s])\n",
    "print(encode('hamza'))\n",
    "print(decode(encode('hamza')))"
   ]
  },
  {
   "cell_type": "code",
   "execution_count": 6,
   "id": "ebf689b8-308a-4641-aa3b-a71ec98bd741",
   "metadata": {},
   "outputs": [
    {
     "name": "stdout",
     "output_type": "stream",
     "text": [
      "torch.Size([1115394]) torch.LongTensor\n"
     ]
    },
    {
     "data": {
      "text/plain": [
       "tensor([18, 47, 56, 57, 58,  1, 15, 47, 58, 47, 64, 43, 52, 10,  0, 14, 43, 44,\n",
       "        53, 56, 43,  1, 61, 43,  1, 54, 56, 53, 41, 43, 43, 42,  1, 39, 52, 63,\n",
       "         1, 44, 59, 56, 58, 46, 43, 56,  6,  1, 46, 43, 39, 56,  1, 51, 43,  1,\n",
       "        57, 54, 43, 39, 49,  8,  0,  0, 13, 50, 50, 10,  0, 31, 54, 43, 39, 49,\n",
       "         6,  1, 57, 54, 43, 39, 49,  8,  0,  0, 18, 47, 56, 57, 58,  1, 15, 47,\n",
       "        58, 47, 64, 43, 52, 10,  0, 37, 53, 59])"
      ]
     },
     "execution_count": 6,
     "metadata": {},
     "output_type": "execute_result"
    }
   ],
   "source": [
    "import torch\n",
    "data = torch.tensor(encode(text), dtype=torch.long)\n",
    "print(data.shape, data.type())\n",
    "data[:100]"
   ]
  },
  {
   "cell_type": "code",
   "execution_count": 7,
   "id": "9e9dcb5a-39a3-4d3e-9637-5b11aaf37bf2",
   "metadata": {},
   "outputs": [],
   "source": [
    "n = int(0.9*(len(data)))\n",
    "train_data = data[:n]\n",
    "val_data = data[n:]"
   ]
  },
  {
   "cell_type": "code",
   "execution_count": 10,
   "id": "57c27d4a-403c-4656-9244-1506fdf37174",
   "metadata": {},
   "outputs": [
    {
     "name": "stdout",
     "output_type": "stream",
     "text": [
      "input data\n",
      "tensor([[24, 43, 58,  5, 57,  1, 46, 43],\n",
      "        [44, 53, 56,  1, 58, 46, 39, 58],\n",
      "        [52, 58,  1, 58, 46, 39, 58,  1],\n",
      "        [25, 17, 27, 10,  0, 21,  1, 54],\n",
      "        [57, 43, 60, 43, 52,  1, 63, 43],\n",
      "        [60, 43, 42,  8,  0, 25, 63,  1],\n",
      "        [56, 42,  5, 57,  1, 57, 39, 49],\n",
      "        [43, 57, 58, 63,  6,  1, 58, 46],\n",
      "        [43,  1, 51, 39, 63,  1, 40, 43],\n",
      "        [58, 46, 43,  1, 43, 39, 56, 57],\n",
      "        [39, 58, 47, 53, 52, 12,  1, 37],\n",
      "        [53, 56, 43,  1, 21,  1, 41, 39],\n",
      "        [50, 39, 52, 63,  1, 47, 58, 57],\n",
      "        [56, 53, 63,  1, 42, 47, 42,  1],\n",
      "        [39, 51,  1, 39, 44, 56, 39, 47],\n",
      "        [17, 24, 21, 38, 13, 14, 17, 32],\n",
      "        [ 1, 39, 52, 42,  1, 45, 43, 50],\n",
      "        [ 1, 58, 46, 39, 58,  1, 42, 53],\n",
      "        [ 1, 61, 53, 59, 50, 42,  1, 21],\n",
      "        [59, 57, 40, 39, 52, 42,  1, 40],\n",
      "        [52, 42,  8,  0,  0, 23, 21, 26],\n",
      "        [45, 53, 42, 57,  0, 23, 43, 43],\n",
      "        [52,  1, 61, 39, 57,  1, 51, 53],\n",
      "        [39, 49, 12,  1, 27,  1, 58, 56],\n",
      "        [53, 44,  1, 57, 54, 43, 43, 41],\n",
      "        [57, 53, 52, 57,  8,  0,  0, 25],\n",
      "        [ 1, 42, 43, 44, 43, 41, 58,  1],\n",
      "        [21,  1, 61, 39, 52, 42, 43, 56],\n",
      "        [43, 43, 51,  5, 42,  1, 40, 59],\n",
      "        [45, 50, 63,  1, 52, 53, 61, 12],\n",
      "        [52, 53, 58,  8,  0, 25, 63,  1],\n",
      "        [53, 58,  6,  1, 51, 63,  1, 50]])\n",
      "out data\n",
      "tensor([[43, 58,  5, 57,  1, 46, 43, 39],\n",
      "        [53, 56,  1, 58, 46, 39, 58,  1],\n",
      "        [58,  1, 58, 46, 39, 58,  1, 46],\n",
      "        [17, 27, 10,  0, 21,  1, 54, 39],\n",
      "        [43, 60, 43, 52,  1, 63, 43, 39],\n",
      "        [43, 42,  8,  0, 25, 63,  1, 45],\n",
      "        [42,  5, 57,  1, 57, 39, 49, 43],\n",
      "        [57, 58, 63,  6,  1, 58, 46, 47],\n",
      "        [ 1, 51, 39, 63,  1, 40, 43,  1],\n",
      "        [46, 43,  1, 43, 39, 56, 57, 10],\n",
      "        [58, 47, 53, 52, 12,  1, 37, 53],\n",
      "        [56, 43,  1, 21,  1, 41, 39, 51],\n",
      "        [39, 52, 63,  1, 47, 58, 57, 43],\n",
      "        [53, 63,  1, 42, 47, 42,  1, 57],\n",
      "        [51,  1, 39, 44, 56, 39, 47, 42],\n",
      "        [24, 21, 38, 13, 14, 17, 32, 20],\n",
      "        [39, 52, 42,  1, 45, 43, 50, 42],\n",
      "        [58, 46, 39, 58,  1, 42, 53,  1],\n",
      "        [61, 53, 59, 50, 42,  1, 21,  1],\n",
      "        [57, 40, 39, 52, 42,  1, 40, 47],\n",
      "        [42,  8,  0,  0, 23, 21, 26, 19],\n",
      "        [53, 42, 57,  0, 23, 43, 43, 54],\n",
      "        [ 1, 61, 39, 57,  1, 51, 53, 56],\n",
      "        [49, 12,  1, 27,  1, 58, 56, 39],\n",
      "        [44,  1, 57, 54, 43, 43, 41, 46],\n",
      "        [53, 52, 57,  8,  0,  0, 25, 17],\n",
      "        [42, 43, 44, 43, 41, 58,  1, 53],\n",
      "        [ 1, 61, 39, 52, 42, 43, 56,  6],\n",
      "        [43, 51,  5, 42,  1, 40, 59, 56],\n",
      "        [50, 63,  1, 52, 53, 61, 12,  0],\n",
      "        [53, 58,  8,  0, 25, 63,  1, 61],\n",
      "        [58,  6,  1, 51, 63,  1, 50, 53]])\n"
     ]
    }
   ],
   "source": [
    "torch.manual_seed(1337)\n",
    "\n",
    "def get_batch(get_split):\n",
    "    data = train_data if get_split == 'train' else val_data\n",
    "    n = torch.randint(len(data)-block_size, (batch_size,))\n",
    "    x = torch.stack([data[i:i+block_size] for i in n])\n",
    "    y = torch.stack([data[i+1:i+block_size+1] for i in n])\n",
    "    return x, y\n",
    "\n",
    "train, test = get_batch('train')\n",
    "print('input data')\n",
    "print(train)\n",
    "print('out data')\n",
    "print(test)"
   ]
  },
  {
   "cell_type": "code",
   "execution_count": 11,
   "id": "56558190-3d36-4549-8998-aed5a098fe3e",
   "metadata": {},
   "outputs": [
    {
     "data": {
      "text/plain": [
       "<torch._C.Generator at 0x251eda05630>"
      ]
     },
     "execution_count": 11,
     "metadata": {},
     "output_type": "execute_result"
    }
   ],
   "source": [
    "import torch.nn as nn\n",
    "from torch.nn import functional as F\n",
    "torch.manual_seed(1337)"
   ]
  },
  {
   "cell_type": "code",
   "execution_count": 242,
   "id": "e490cf30-9f46-4b89-97e9-6f2cd7d00b12",
   "metadata": {},
   "outputs": [],
   "source": [
    "batch_size = 32\n",
    "block_size = 128\n",
    "train_iter = 1000\n",
    "val_iter = 50\n",
    "learning_rate = 3e-4\n",
    "n_embd = 120\n",
    "num_head = 6\n",
    "num_layer = 4\n",
    "dropout = 0.2\n",
    "device = 'cuda' if torch.cuda.is_available() else 'cpu'"
   ]
  },
  {
   "cell_type": "code",
   "execution_count": 213,
   "id": "6d5b9f8c-1e32-45e3-8ecf-b630ede0c065",
   "metadata": {},
   "outputs": [],
   "source": [
    "class Head(nn.Module):\n",
    "    def __init__(self, head_size):\n",
    "        super().__init__()\n",
    "        self.key = nn.Linear(n_embd, head_size, bias=False)\n",
    "        self.query = nn.Linear(n_embd, head_size, bias=False)\n",
    "        self.value = nn.Linear(n_embd, head_size, bias=False)\n",
    "        self.register_buffer('tril',torch.tril(torch.ones(block_size, block_size)))\n",
    "        self.dropout = nn.Dropout(dropout)\n",
    "\n",
    "    def forward(self, x):\n",
    "        B, T, C = x.shape\n",
    "        k = self.key(x)\n",
    "        q = self.query(x)\n",
    "        wei = k @ q.transpose(-2, -1)* C**0.5\n",
    "        wei = wei.masked_fill(self.tril[:T,:T] == 0, float('-inf'))\n",
    "        wei = F.softmax(wei, dim=-1)\n",
    "        wei = self.dropout(wei)\n",
    "        v = self.value(x)\n",
    "        out = wei @ v\n",
    "        return out"
   ]
  },
  {
   "cell_type": "code",
   "execution_count": 214,
   "id": "8bb71fd1-6d6a-4578-bbeb-046e9b87eb7d",
   "metadata": {},
   "outputs": [],
   "source": [
    "class MultiHeadAttention(nn.Module):\n",
    "    \"\"\" multiple heads of self-attention in parallel \"\"\"\n",
    "\n",
    "    def __init__(self, num_heads, head_size):\n",
    "        super().__init__()\n",
    "        self.heads = nn.ModuleList([Head(head_size) for _ in range(num_heads)])\n",
    "        self.proj = nn.Linear(n_embd, n_embd)\n",
    "        self.dropout = nn.Dropout(dropout)\n",
    "\n",
    "    def forward(self, x):\n",
    "        out = torch.cat([h(x) for h in self.heads], dim=-1)\n",
    "        out = self.dropout(self.proj(out))\n",
    "        return out"
   ]
  },
  {
   "cell_type": "code",
   "execution_count": 215,
   "id": "fa9ea022-2b0a-42fb-83bc-b632b1a60069",
   "metadata": {},
   "outputs": [],
   "source": [
    "class FeedForward(nn.Module):\n",
    "    def __init__(self, n_embd):\n",
    "        super().__init__()\n",
    "        self.net = nn.Sequential(\n",
    "            nn.Linear(n_embd, 4 * n_embd),\n",
    "            nn.ReLU(),\n",
    "            nn.Linear(4 * n_embd, n_embd),\n",
    "            nn.Dropout(dropout)\n",
    "        )\n",
    "    def forward(self, x):\n",
    "        return self.net(x)"
   ]
  },
  {
   "cell_type": "code",
   "execution_count": 216,
   "id": "3b498c13-6e11-4a00-9ec9-fe3f3492fa85",
   "metadata": {},
   "outputs": [],
   "source": [
    "class Block(nn.Module):\n",
    "    def __init__(self, n_embd, num_head):\n",
    "        super().__init__()\n",
    "        head_size = n_embd // num_head\n",
    "        self.sa_head = MultiHeadAttention(num_head, head_size)\n",
    "        self.ffwd = FeedForward(n_embd)\n",
    "        self.layer_norm1 = nn.LayerNorm(n_embd)\n",
    "        self.layer_norm2 = nn.LayerNorm(n_embd)\n",
    "\n",
    "    def forward(self, x):\n",
    "        x = x + self.sa_head(self.layer_norm1(x))\n",
    "        x = x + self.ffwd(self.layer_norm2(x))\n",
    "        return x\n"
   ]
  },
  {
   "cell_type": "code",
   "execution_count": 217,
   "id": "513fdc58-7b0a-4978-a9cd-feec662314ef",
   "metadata": {},
   "outputs": [
    {
     "name": "stdout",
     "output_type": "stream",
     "text": [
      "torch.Size([4096, 65])\n",
      "tensor(4.4069, grad_fn=<NllLossBackward0>)\n",
      "\n",
      ".;xiizJ;CWHcyubVxcjGTDaJC$BaSdkQkQqPSifGuZb:OX3bYYnA&&aDHG tZtVCVqFCdQrEQfs tAJZgYv;vOA:KTdPyvqnsnfk\n"
     ]
    }
   ],
   "source": [
    "class BigramLanguageModel(nn.Module):\n",
    "\n",
    "    def __init__(self):\n",
    "        super().__init__()\n",
    "        self.token_embedding_table = nn.Embedding(vocab_size, n_embd) # (32, 8, 32)\n",
    "        self.position_embedding_table = nn.Embedding(block_size, n_embd) #(8, 32)\n",
    "        self.blocks = nn.Sequential(*[Block(n_embd, num_head) for _ in range(num_layer)])\n",
    "        self.lnf = nn.LayerNorm(n_embd) # final layer normalization\n",
    "        self.lm_head = nn.Linear(n_embd, vocab_size) # (32, 8, 32) @ (32,65)\n",
    "        \n",
    "\n",
    "    def forward(self, idx, target= None):\n",
    "        B, T = idx.shape\n",
    "        tok_embd = self.token_embedding_table(idx) # (65,32)\n",
    "        pos_embd = self.position_embedding_table(torch.arange(T)) #(8, 32)\n",
    "        x = tok_embd + pos_embd # (32, 8, 32)\n",
    "        x = self.blocks(x)\n",
    "        x = self.lnf(x) # final layer normalization\n",
    "        logits = self.lm_head(x) # (32,65)\n",
    "        if target is None:\n",
    "            loss = None\n",
    "        else:\n",
    "            B, T, C = logits.shape\n",
    "            logits = logits.view(B*T, C)\n",
    "            target = target.view(B*T)\n",
    "            loss = F.cross_entropy(logits, target)\n",
    "\n",
    "        return logits, loss#, tok_embd.shape, pos_embd.shape, x.shape, logits.shape\n",
    "\n",
    "    def Generate(self, idx, max_new_tokens):\n",
    "        for _ in range(max_new_tokens):\n",
    "            idx_cond = idx[:, -block_size:]\n",
    "            logits, loss = self(idx_cond)\n",
    "            logits = logits[:, -1, :]\n",
    "            probs = F.softmax(logits, dim=-1)\n",
    "            idx_next = torch.multinomial(probs, num_samples=1)\n",
    "            idx = torch.cat((idx, idx_next), dim=-1)\n",
    "        return idx\n",
    "\n",
    "train, test = get_batch('train')\n",
    "M = BigramLanguageModel()\n",
    "M = M.to(device)\n",
    "logits, loss= M(train,test)#, t_shape, p_shape, x_shape, l_shape = M(train,test)\n",
    "print(logits.shape)\n",
    "print(loss)\n",
    "\n",
    "print(decode(M.Generate(idx = torch.zeros((1, 1), dtype=torch.long, device = device), max_new_tokens=100)[0].tolist()))"
   ]
  },
  {
   "cell_type": "code",
   "execution_count": 218,
   "id": "c315f43c-6533-4052-b2c1-8507c8c53c96",
   "metadata": {},
   "outputs": [],
   "source": [
    "optimizer = torch.optim.Adam(M.parameters(), lr=learning_rate)"
   ]
  },
  {
   "cell_type": "code",
   "execution_count": 249,
   "id": "345e90a8-4ba9-43fb-af76-b7b3acc94990",
   "metadata": {},
   "outputs": [
    {
     "name": "stdout",
     "output_type": "stream",
     "text": [
      "train loss is: 1.7876832123994828\n"
     ]
    }
   ],
   "source": [
    "tl = []\n",
    "for _ in range(train_iter):\n",
    "    x , y = get_batch('train')\n",
    "    logits ,loss = M.forward(x, y)\n",
    "    optimizer.zero_grad(set_to_none=True)\n",
    "    loss.backward()\n",
    "    optimizer.step()\n",
    "    tl.append(loss.item())\n",
    "    \n",
    "\n",
    "print('train loss is:',sum(tl) / len(tl))"
   ]
  },
  {
   "cell_type": "code",
   "execution_count": 250,
   "id": "de72f8bf-63f6-4979-beef-87b532ed78be",
   "metadata": {},
   "outputs": [
    {
     "name": "stdout",
     "output_type": "stream",
     "text": [
      "validation loss is: 1.7717492437362672\n"
     ]
    }
   ],
   "source": [
    "vl = []\n",
    "x , y = get_batch('val')\n",
    "for _ in range(val_iter):\n",
    "    x , y = get_batch('train')\n",
    "    logits ,loss = M.forward(x, y)\n",
    "    vl.append(loss.item())\n",
    "\n",
    "print('validation loss is:',sum(vl) / len(vl))"
   ]
  },
  {
   "cell_type": "code",
   "execution_count": 251,
   "id": "bb02786f-a064-4432-9e72-ecc6b3ca73b4",
   "metadata": {},
   "outputs": [
    {
     "name": "stdout",
     "output_type": "stream",
     "text": [
      "\n",
      "Grapt oll-shall hants more in fraid\n",
      "Shrang with of on, I ceath, a wrobortake.\n",
      "\n",
      "LANGS:\n",
      "Ved spead no.\n",
      "\n",
      "CAPULIUS:\n",
      "Wo'ell in a besin the star,\n",
      "In that womaddeofulon thou eng to selve 'tch, bay\n",
      "my ong soulded quity ina\n",
      "And from wire he hand; honows, was Mans;\n",
      "Mine and a have your's by by urselicloat oplems:\n",
      "Secold, as Hast daad our sain fring,\n",
      "If ambleds a be the fin: to handy comillain a day.\n",
      "Firsures!\n",
      "It Buchillorainature my him, Last, ord! Comearia atiman, the diss lave s;\n",
      "Heccoe hows in bit hand, they strupts arlonds\n",
      "And twato aniour Clo littnumblers in the beself\n",
      "Bowast nase lew him Byady beleseo;\n",
      "Thands a 'my now will a for the genge rother: \n",
      "All brormsafe swes do ball:\n",
      "This in apent, word, insly, a I scakes,\n",
      "I draudy\n",
      "frien and this ever reat a fongarimpt man.\n",
      "\n",
      "FORIAR O:\n",
      "Thy most: spas thou woe finds,\n",
      "Ine anat will for thou heavert's you sus,\n",
      "That lay low him he they-too of of is by and beedo: yor bumbt,\n",
      "pon thoughimse, I day, an be but were?\n",
      "\n",
      "Surn Ans or I smen:\n",
      "You ereforth rave is \n"
     ]
    }
   ],
   "source": [
    "print(decode(M.Generate(idx = torch.zeros((1, 1), dtype=torch.long), max_new_tokens=1000)[0].tolist()))"
   ]
  },
  {
   "cell_type": "code",
   "execution_count": 172,
   "id": "21861745-c2ab-4a83-b817-7da0345f61bc",
   "metadata": {},
   "outputs": [
    {
     "data": {
      "text/plain": [
       "torch.Size([4, 8, 2])"
      ]
     },
     "execution_count": 172,
     "metadata": {},
     "output_type": "execute_result"
    }
   ],
   "source": [
    "torch.manual_seed(1337)\n",
    "B,T,C = 4,8,2\n",
    "x = torch.randn(B,T,C)\n",
    "x.shape"
   ]
  },
  {
   "cell_type": "code",
   "execution_count": 173,
   "id": "96b169e8-ecb5-4f1f-a169-2601e7bd9efc",
   "metadata": {},
   "outputs": [],
   "source": [
    "# We want x[b,t] = mean_{i<=t} x[b,i]\n",
    "xbow = torch.zeros((B,T,C))\n",
    "for b in range(B):\n",
    "    for t in range(T):\n",
    "        xprev = x[b,:t+1] # (t,C)\n",
    "        xbow[b,t] = torch.mean(xprev, 0)\n"
   ]
  },
  {
   "cell_type": "code",
   "execution_count": 182,
   "id": "642d37ba-49c5-4ccc-ba48-eb535cc58eef",
   "metadata": {},
   "outputs": [
    {
     "data": {
      "text/plain": [
       "False"
      ]
     },
     "execution_count": 182,
     "metadata": {},
     "output_type": "execute_result"
    }
   ],
   "source": [
    "# version 2: using matrix multiply for a weighted aggregation\n",
    "wei = torch.tril(torch.ones(T, T))\n",
    "wei = wei / wei.sum(1, keepdim=True)\n",
    "xbow2 = wei @ x # (B, T, T) @ (B, T, C) ----> (B, T, C)\n",
    "torch.allclose(xbow, xbow2)"
   ]
  },
  {
   "cell_type": "code",
   "execution_count": 181,
   "id": "217cedb7-b3df-444e-ab6c-404b7ef307d5",
   "metadata": {},
   "outputs": [
    {
     "data": {
      "text/plain": [
       "tensor([[[ 0.1808, -0.0700],\n",
       "         [-0.0894, -0.4926],\n",
       "         [ 0.1490, -0.3199],\n",
       "         [ 0.3504, -0.2238],\n",
       "         [ 0.3525,  0.0545],\n",
       "         [ 0.0688, -0.0396],\n",
       "         [ 0.0927, -0.0682],\n",
       "         [-0.0341,  0.1332]],\n",
       "\n",
       "        [[ 1.3488, -0.1396],\n",
       "         [ 0.8173,  0.4127],\n",
       "         [-0.1342,  0.4395],\n",
       "         [ 0.2711,  0.4774],\n",
       "         [ 0.2421,  0.0694],\n",
       "         [ 0.0084,  0.0020],\n",
       "         [ 0.0712, -0.1128],\n",
       "         [ 0.2527,  0.2149]],\n",
       "\n",
       "        [[-0.6631, -0.2513],\n",
       "         [ 0.1735, -0.0649],\n",
       "         [ 0.1685,  0.3348],\n",
       "         [-0.1621,  0.1765],\n",
       "         [-0.2312, -0.0436],\n",
       "         [-0.1015, -0.2855],\n",
       "         [-0.2593, -0.1630],\n",
       "         [-0.3015, -0.2293]],\n",
       "\n",
       "        [[ 1.6455, -0.8030],\n",
       "         [ 1.4985, -0.5395],\n",
       "         [ 0.4954,  0.3420],\n",
       "         [ 1.0623, -0.1802],\n",
       "         [ 1.1401, -0.4462],\n",
       "         [ 1.0870, -0.4071],\n",
       "         [ 1.0430, -0.1299],\n",
       "         [ 1.1138, -0.1641]]])"
      ]
     },
     "execution_count": 181,
     "metadata": {},
     "output_type": "execute_result"
    }
   ],
   "source": [
    "wei = torch.tril(torch.ones(T, T))\n",
    "wei = wei / wei.sum(1, keepdim=True)\n",
    "xbow2 = wei @ x # (B, T, T) @ (B, T, C) ----> (B, T, C)\n",
    "xbow2"
   ]
  },
  {
   "cell_type": "code",
   "execution_count": 192,
   "id": "a3f41599-9ac2-4f7a-baff-4f062339e8d5",
   "metadata": {},
   "outputs": [
    {
     "data": {
      "text/plain": [
       "True"
      ]
     },
     "execution_count": 192,
     "metadata": {},
     "output_type": "execute_result"
    }
   ],
   "source": [
    "wei = torch.tril(torch.ones(T,T))\n",
    "wei = wei.masked_fill(wei==0, float('-inf'))\n",
    "wei = F.softmax(wei, 1)\n",
    "xbow3 = wei @ x\n",
    "torch.allclose(xbow2, xbow3)"
   ]
  },
  {
   "cell_type": "code",
   "execution_count": 193,
   "id": "65cc8a70-b254-4fad-8801-26099df1d4ff",
   "metadata": {},
   "outputs": [
    {
     "data": {
      "text/plain": [
       "tensor([[1.0000, 0.0000, 0.0000, 0.0000, 0.0000, 0.0000, 0.0000, 0.0000],\n",
       "        [0.5000, 0.5000, 0.0000, 0.0000, 0.0000, 0.0000, 0.0000, 0.0000],\n",
       "        [0.3333, 0.3333, 0.3333, 0.0000, 0.0000, 0.0000, 0.0000, 0.0000],\n",
       "        [0.2500, 0.2500, 0.2500, 0.2500, 0.0000, 0.0000, 0.0000, 0.0000],\n",
       "        [0.2000, 0.2000, 0.2000, 0.2000, 0.2000, 0.0000, 0.0000, 0.0000],\n",
       "        [0.1667, 0.1667, 0.1667, 0.1667, 0.1667, 0.1667, 0.0000, 0.0000],\n",
       "        [0.1429, 0.1429, 0.1429, 0.1429, 0.1429, 0.1429, 0.1429, 0.0000],\n",
       "        [0.1250, 0.1250, 0.1250, 0.1250, 0.1250, 0.1250, 0.1250, 0.1250]])"
      ]
     },
     "execution_count": 193,
     "metadata": {},
     "output_type": "execute_result"
    }
   ],
   "source": [
    "wei"
   ]
  },
  {
   "cell_type": "code",
   "execution_count": null,
   "id": "288c846f-55da-4bf2-87b0-b4310932ad04",
   "metadata": {},
   "outputs": [],
   "source": []
  }
 ],
 "metadata": {
  "kernelspec": {
   "display_name": "Python 3 (ipykernel)",
   "language": "python",
   "name": "python3"
  },
  "language_info": {
   "codemirror_mode": {
    "name": "ipython",
    "version": 3
   },
   "file_extension": ".py",
   "mimetype": "text/x-python",
   "name": "python",
   "nbconvert_exporter": "python",
   "pygments_lexer": "ipython3",
   "version": "3.12.4"
  }
 },
 "nbformat": 4,
 "nbformat_minor": 5
}
